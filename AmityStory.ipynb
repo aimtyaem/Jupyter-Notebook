{
  "nbformat": 4,
  "nbformat_minor": 0,
  "metadata": {
    "colab": {
      "provenance": [],
      "authorship_tag": "ABX9TyPbqh5jWUti/k9WDYfRfD8S",
      "include_colab_link": true
    },
    "kernelspec": {
      "name": "python3",
      "display_name": "Python 3"
    },
    "language_info": {
      "name": "python"
    }
  },
  "cells": [
    {
      "cell_type": "markdown",
      "metadata": {
        "id": "view-in-github",
        "colab_type": "text"
      },
      "source": [
        "<a href=\"https://colab.research.google.com/github/aimtyaem/Jupyter-Notebook/blob/master/AmityStory.ipynb\" target=\"_parent\"><img src=\"https://colab.research.google.com/assets/colab-badge.svg\" alt=\"Open In Colab\"/></a>"
      ]
    },
    {
      "cell_type": "code",
      "source": [
        "import random"
      ],
      "metadata": {
        "id": "VWUGBsbnR9jh"
      },
      "execution_count": 1,
      "outputs": []
    },
    {
      "cell_type": "code",
      "source": [
        "\n",
        "# define the customer persona\n",
        "customer_persona = {\n",
        "    'name': 'John',\n",
        "    'age': 35,\n",
        "    'gender': 'Male',\n",
        "    'location': 'New York',\n",
        "    'interests': ['technology', 'sports', 'travel'],\n",
        "    'online_activities': ['reading tech blogs', 'shopping for sports gear', 'booking travel']\n",
        "}"
      ],
      "metadata": {
        "id": "C6ZDh1u8SFNS"
      },
      "execution_count": null,
      "outputs": []
    },
    {
      "cell_type": "code",
      "source": [
        "\n",
        "# define the product\n",
        "product = {\n",
        "    'name': 'Smartwatch',\n",
        "    'features': ['heart rate monitor', 'GPS tracking', 'mobile payments'],\n",
        "    'benefits': ['track fitness goals', 'navigate new places', 'make purchases on-the-go']\n",
        "}"
      ],
      "metadata": {
        "id": "ek-zOlc3SPil"
      },
      "execution_count": null,
      "outputs": []
    },
    {
      "cell_type": "code",
      "source": [
        "\n",
        "# generate a story for the customer persona\n",
        "story = f\"{customer_persona['name']} is a {customer_persona['age']} year old {customer_persona['gender']} living in {customer_persona['location']}. \"\n",
        "story += f\"He enjoys {random.choice(customer_persona['interests'])} and often spends time {random.choice(customer_persona['online_activities'])}. \"\n",
        "story += f\"The {product['name']} is the perfect product for him, with features like a {product['features'][0]} and {product['features'][1]} that allow him to {product['benefits'][0]} and {product['benefits'][1]}. \"\n",
        "story += f\"With the added convenience of {product['features'][2]}, he can even {product['benefits'][2]} while on-the-go. \"\n",
        "\n",
        "print(story)"
      ],
      "metadata": {
        "id": "6U8J8tUzSdWB"
      },
      "execution_count": null,
      "outputs": []
    }
  ]
}